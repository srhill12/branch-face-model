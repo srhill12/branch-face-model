{
  "cells": [
    {
      "cell_type": "markdown",
      "metadata": {
        "id": "Un6tNZhrN_3q"
      },
      "source": [
        "# 1. Import the Preprocessed Data"
      ]
    },
    {
      "cell_type": "code",
      "execution_count": 1,
      "metadata": {
        "colab": {
          "base_uri": "https://localhost:8080/"
        },
        "id": "tSIn8ESYLpB5",
        "outputId": "9f99114a-7a4e-4a8d-d86d-36ffd67d5b14"
      },
      "outputs": [
        {
          "data": {
            "text/plain": [
              "dict_keys(['X_train', 'X_test', 'y_train_userid', 'y_train_pose', 'y_train_expression', 'y_train_eyes', 'y_test_userid', 'y_test_pose', 'y_test_expression', 'y_test_eyes'])"
            ]
          },
          "execution_count": 1,
          "metadata": {},
          "output_type": "execute_result"
        }
      ],
      "source": [
        "import pickle\n",
        "import requests\n",
        "import io\n",
        "import numpy as np\n",
        "import pandas as pd\n",
        "\n",
        "pickle_file = 'https://static.bc-edx.com/ai/ail-v-1-0/m19/lesson_3/datasets/pickles/preprocessed_faces_data.pkl'\n",
        "#data = pickle.load(io.BytesIO(requests.get(pickle_file).content))\n",
        "response = requests.get(pickle_file)\n",
        "data = pd.read_pickle(io.BytesIO(response.content)) \n",
        "data.keys()\n"
      ]
    },
    {
      "cell_type": "code",
      "execution_count": 2,
      "metadata": {
        "id": "eDFj4qXRNomz"
      },
      "outputs": [],
      "source": [
        "X_train = data['X_train']\n",
        "X_test = data['X_test']\n",
        "\n",
        "y_train_userid = data['y_train_userid']\n",
        "y_train_pose = data['y_train_pose']\n",
        "y_train_expression = data['y_train_expression']\n",
        "y_train_eyes = data['y_train_eyes']\n",
        "\n",
        "y_test_userid = data['y_test_userid']\n",
        "y_test_pose = data['y_test_pose']\n",
        "y_test_expression = data['y_test_expression']\n",
        "y_test_eyes = data['y_test_eyes']"
      ]
    },
    {
      "cell_type": "markdown",
      "metadata": {
        "id": "BYtrr4IDoUAw"
      },
      "source": [
        "# 2. Build the Model"
      ]
    },
    {
      "cell_type": "code",
      "execution_count": 3,
      "metadata": {
        "id": "zyyus3qUnpkx"
      },
      "outputs": [],
      "source": [
        "from tensorflow.keras import layers, models, Model\n",
        "# First we build the input layer\n",
        "input_layer = layers.Input(shape=(60, 64, 1), name='input_layer')\n",
        "\n",
        "# Shared layers (common across all tasks)\n",
        "# The second layer should be a Conv2D layer built off the input_layer\n",
        "conv1 = layers.Conv2D(32, (3, 3), activation='relu')(input_layer)\n",
        "\n",
        "# The third layer should be a MaxPooling2D layer built off the second layer\n",
        "maxpool1 = layers.MaxPooling2D((2, 2))(conv1)\n",
        "\n",
        "# The fourth layer should be a Conv2D layer built off the third layer\n",
        "conv2 = layers.Conv2D(64, (3, 3), activation='relu')(maxpool1)\n",
        "\n",
        "# The fifth layer should be a MaxPooling2D layer built off the fourth layer\n",
        "maxpool2 = layers.MaxPooling2D((2, 2))(conv2)\n",
        "\n",
        "# The sixth layer should be a Conv2D layer built off the fifth layer\n",
        "conv3 = layers.Conv2D(64, (3, 3), activation='relu')(maxpool2)\n",
        "\n",
        "# The seventh layer should be a Flatten layer built off the sixth layer\n",
        "flatten = layers.Flatten()(conv3)\n",
        "\n",
        "# Lastly, build one dense layer before branching to the different y branches\n",
        "dense_shared = layers.Dense(64, activation='relu')(flatten)\n"
      ]
    },
    {
      "cell_type": "code",
      "execution_count": 4,
      "metadata": {
        "id": "eAEw8LXNpm-R"
      },
      "outputs": [],
      "source": [
        "# Build the branches for each of the y variables\n",
        "# Include a dense hidden layer in each along with the output layer.\n",
        "# I need to remember to include the correct number of nodes for the output\n",
        "\n",
        "# userid\n",
        "userid_dense = layers.Dense(64, activation='relu')(dense_shared)\n",
        "userid_output = layers.Dense(len(y_train_userid.columns),\n",
        "                             activation='sigmoid',\n",
        "                             name='userid_output')(userid_dense)\n",
        "\n",
        "# pose\n",
        "pose_dense = layers.Dense(64, activation='relu')(dense_shared)\n",
        "pose_output = layers.Dense(len(y_train_pose.columns),\n",
        "                           activation='softmax',\n",
        "                             name='pose_output')(pose_dense)\n",
        "\n",
        "# expression\n",
        "expression_dense = layers.Dense(64, activation='relu')(dense_shared)\n",
        "expression_output = layers.Dense(len(y_train_expression.columns),\n",
        "                                 activation='softmax',\n",
        "                             name='expression_output')(expression_dense)\n",
        "\n",
        "# eyes\n",
        "eyes_dense = layers.Dense(64, activation='relu')(dense_shared)\n",
        "eyes_output = layers.Dense(len(y_train_eyes.columns),\n",
        "                           activation='sigmoid',\n",
        "                             name='eyes_output')(eyes_dense)"
      ]
    },
    {
      "cell_type": "code",
      "execution_count": 5,
      "metadata": {
        "id": "YMUUccPe2LRK"
      },
      "outputs": [],
      "source": [
        "# Build the model\n",
        "model = Model(inputs=input_layer, outputs=[\n",
        "    userid_output,\n",
        "    pose_output,\n",
        "    expression_output,\n",
        "    eyes_output\n",
        "])\n",
        "\n",
        "# Compile the model\n",
        "model.compile(optimizer='adam',\n",
        "              loss={'userid_output': 'categorical_crossentropy',\n",
        "                    'pose_output': 'categorical_crossentropy',\n",
        "                    'expression_output': 'categorical_crossentropy',\n",
        "                    'eyes_output': 'binary_crossentropy'},\n",
        "              metrics={'userid_output': 'accuracy',\n",
        "                       'pose_output': 'accuracy',\n",
        "                       'expression_output': 'accuracy',\n",
        "                       'eyes_output': 'accuracy'})"
      ]
    },
    {
      "cell_type": "code",
      "execution_count": 6,
      "metadata": {
        "colab": {
          "base_uri": "https://localhost:8080/"
        },
        "id": "gnRnEcWB3gb2",
        "outputId": "843fddba-91d5-4af2-91b8-166423c127b4"
      },
      "outputs": [
        {
          "name": "stdout",
          "output_type": "stream",
          "text": [
            "Epoch 1/10\n",
            "\u001b[1m59/59\u001b[0m \u001b[32m━━━━━━━━━━━━━━━━━━━━\u001b[0m\u001b[37m\u001b[0m \u001b[1m2s\u001b[0m 26ms/step - expression_output_accuracy: 0.2490 - eyes_output_accuracy: 0.5377 - loss: 6.4242 - pose_output_accuracy: 0.2863 - userid_output_accuracy: 0.0682 - val_expression_output_accuracy: 0.2628 - val_eyes_output_accuracy: 0.7265 - val_loss: 6.0452 - val_pose_output_accuracy: 0.3504 - val_userid_output_accuracy: 0.1752\n",
            "Epoch 2/10\n",
            "\u001b[1m59/59\u001b[0m \u001b[32m━━━━━━━━━━━━━━━━━━━━\u001b[0m\u001b[37m\u001b[0m \u001b[1m1s\u001b[0m 24ms/step - expression_output_accuracy: 0.2768 - eyes_output_accuracy: 0.6834 - loss: 5.5463 - pose_output_accuracy: 0.4206 - userid_output_accuracy: 0.2754 - val_expression_output_accuracy: 0.2500 - val_eyes_output_accuracy: 0.7821 - val_loss: 4.8364 - val_pose_output_accuracy: 0.4936 - val_userid_output_accuracy: 0.4509\n",
            "Epoch 3/10\n",
            "\u001b[1m59/59\u001b[0m \u001b[32m━━━━━━━━━━━━━━━━━━━━\u001b[0m\u001b[37m\u001b[0m \u001b[1m1s\u001b[0m 23ms/step - expression_output_accuracy: 0.3163 - eyes_output_accuracy: 0.7690 - loss: 4.4386 - pose_output_accuracy: 0.5186 - userid_output_accuracy: 0.4949 - val_expression_output_accuracy: 0.2799 - val_eyes_output_accuracy: 0.7372 - val_loss: 4.3841 - val_pose_output_accuracy: 0.5235 - val_userid_output_accuracy: 0.5449\n",
            "Epoch 4/10\n",
            "\u001b[1m59/59\u001b[0m \u001b[32m━━━━━━━━━━━━━━━━━━━━\u001b[0m\u001b[37m\u001b[0m \u001b[1m1s\u001b[0m 24ms/step - expression_output_accuracy: 0.3380 - eyes_output_accuracy: 0.8002 - loss: 3.6855 - pose_output_accuracy: 0.6275 - userid_output_accuracy: 0.6694 - val_expression_output_accuracy: 0.2415 - val_eyes_output_accuracy: 0.7842 - val_loss: 4.1209 - val_pose_output_accuracy: 0.4893 - val_userid_output_accuracy: 0.5983\n",
            "Epoch 5/10\n",
            "\u001b[1m59/59\u001b[0m \u001b[32m━━━━━━━━━━━━━━━━━━━━\u001b[0m\u001b[37m\u001b[0m \u001b[1m1s\u001b[0m 25ms/step - expression_output_accuracy: 0.3639 - eyes_output_accuracy: 0.8242 - loss: 3.2709 - pose_output_accuracy: 0.6378 - userid_output_accuracy: 0.7487 - val_expression_output_accuracy: 0.2457 - val_eyes_output_accuracy: 0.8013 - val_loss: 3.9887 - val_pose_output_accuracy: 0.5214 - val_userid_output_accuracy: 0.6774\n",
            "Epoch 6/10\n",
            "\u001b[1m59/59\u001b[0m \u001b[32m━━━━━━━━━━━━━━━━━━━━\u001b[0m\u001b[37m\u001b[0m \u001b[1m1s\u001b[0m 24ms/step - expression_output_accuracy: 0.3790 - eyes_output_accuracy: 0.8757 - loss: 2.8683 - pose_output_accuracy: 0.7028 - userid_output_accuracy: 0.8094 - val_expression_output_accuracy: 0.2265 - val_eyes_output_accuracy: 0.8184 - val_loss: 3.9779 - val_pose_output_accuracy: 0.6111 - val_userid_output_accuracy: 0.6581\n",
            "Epoch 7/10\n",
            "\u001b[1m59/59\u001b[0m \u001b[32m━━━━━━━━━━━━━━━━━━━━\u001b[0m\u001b[37m\u001b[0m \u001b[1m1s\u001b[0m 22ms/step - expression_output_accuracy: 0.4475 - eyes_output_accuracy: 0.8867 - loss: 2.5594 - pose_output_accuracy: 0.7524 - userid_output_accuracy: 0.8360 - val_expression_output_accuracy: 0.2372 - val_eyes_output_accuracy: 0.7927 - val_loss: 3.8516 - val_pose_output_accuracy: 0.5833 - val_userid_output_accuracy: 0.7329\n",
            "Epoch 8/10\n",
            "\u001b[1m59/59\u001b[0m \u001b[32m━━━━━━━━━━━━━━━━━━━━\u001b[0m\u001b[37m\u001b[0m \u001b[1m1s\u001b[0m 22ms/step - expression_output_accuracy: 0.4719 - eyes_output_accuracy: 0.9306 - loss: 2.2643 - pose_output_accuracy: 0.7708 - userid_output_accuracy: 0.8884 - val_expression_output_accuracy: 0.2671 - val_eyes_output_accuracy: 0.8483 - val_loss: 3.8135 - val_pose_output_accuracy: 0.6090 - val_userid_output_accuracy: 0.7094\n",
            "Epoch 9/10\n",
            "\u001b[1m59/59\u001b[0m \u001b[32m━━━━━━━━━━━━━━━━━━━━\u001b[0m\u001b[37m\u001b[0m \u001b[1m1s\u001b[0m 23ms/step - expression_output_accuracy: 0.4930 - eyes_output_accuracy: 0.9325 - loss: 2.0061 - pose_output_accuracy: 0.8086 - userid_output_accuracy: 0.9159 - val_expression_output_accuracy: 0.2265 - val_eyes_output_accuracy: 0.8120 - val_loss: 4.1979 - val_pose_output_accuracy: 0.6239 - val_userid_output_accuracy: 0.7222\n",
            "Epoch 10/10\n",
            "\u001b[1m59/59\u001b[0m \u001b[32m━━━━━━━━━━━━━━━━━━━━\u001b[0m\u001b[37m\u001b[0m \u001b[1m2s\u001b[0m 26ms/step - expression_output_accuracy: 0.5025 - eyes_output_accuracy: 0.9466 - loss: 1.8159 - pose_output_accuracy: 0.8710 - userid_output_accuracy: 0.9239 - val_expression_output_accuracy: 0.2201 - val_eyes_output_accuracy: 0.7842 - val_loss: 4.2123 - val_pose_output_accuracy: 0.6346 - val_userid_output_accuracy: 0.7671\n"
          ]
        },
        {
          "data": {
            "text/plain": [
              "<keras.src.callbacks.history.History at 0x30aff8f70>"
            ]
          },
          "execution_count": 6,
          "metadata": {},
          "output_type": "execute_result"
        }
      ],
      "source": [
        "# Train the model with the training data\n",
        "model.fit(\n",
        "    X_train,\n",
        "    {\n",
        "        'userid_output': y_train_userid,\n",
        "        'pose_output': y_train_pose,\n",
        "        'expression_output': y_train_expression,\n",
        "        'eyes_output': y_train_eyes\n",
        "    },\n",
        "    epochs=10,  # I can adjust the number of epochs based on needs\n",
        "    batch_size=32,  # I can adjust the batch size based on available memory\n",
        "    validation_split=0.2  # I can specify the validation split if I have a separate validation set\n",
        ")"
      ]
    },
    {
      "cell_type": "code",
      "execution_count": 11,
      "metadata": {
        "colab": {
          "base_uri": "https://localhost:8080/"
        },
        "id": "-RbD5RK-34zb",
        "outputId": "92f552f3-bb46-4d15-bc5b-f084566ecb50"
      },
      "outputs": [
        {
          "name": "stdout",
          "output_type": "stream",
          "text": [
            "\u001b[1m5/5\u001b[0m \u001b[32m━━━━━━━━━━━━━━━━━━━━\u001b[0m\u001b[37m\u001b[0m \u001b[1m0s\u001b[0m 6ms/step - expression_output_accuracy: 0.1580 - eyes_output_accuracy: 0.7981 - loss: 3.7437 - pose_output_accuracy: 0.7549 - userid_output_accuracy: 0.9202 \n",
            "userid accuracy: 0.1666666716337204\n",
            "pose accuracy: 0.8461538553237915\n",
            "expression accuracy: 0.7307692170143127\n",
            "eyes accuracy: 0.9038461446762085\n"
          ]
        }
      ],
      "source": [
        "# Evaluate the model using the test data\n",
        "results = model.evaluate(np.array(X_test), {\n",
        "        'userid_output': y_test_userid,\n",
        "        'pose_output': y_test_pose,\n",
        "        'expression_output': y_test_expression,\n",
        "        'eyes_output': y_test_eyes\n",
        "    })\n",
        "\n",
        "# Print the accuracy for each category\n",
        "pred_categories = ['userid', 'pose', 'expression', 'eyes']\n",
        "for i, cat in enumerate(pred_categories):\n",
        "    print(f\"{cat} accuracy: {results[i+1]}\")\n",
        "\n"
      ]
    },
    {
      "cell_type": "code",
      "execution_count": null,
      "metadata": {
        "id": "MjYcdOabBWTQ"
      },
      "outputs": [],
      "source": []
    }
  ],
  "metadata": {
    "colab": {
      "provenance": []
    },
    "kernelspec": {
      "display_name": "Python 3",
      "name": "python3"
    },
    "language_info": {
      "codemirror_mode": {
        "name": "ipython",
        "version": 3
      },
      "file_extension": ".py",
      "mimetype": "text/x-python",
      "name": "python",
      "nbconvert_exporter": "python",
      "pygments_lexer": "ipython3",
      "version": "3.10.13"
    }
  },
  "nbformat": 4,
  "nbformat_minor": 0
}
